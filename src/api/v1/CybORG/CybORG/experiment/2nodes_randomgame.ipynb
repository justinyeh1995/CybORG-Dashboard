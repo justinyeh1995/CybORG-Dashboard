{
 "cells": [
  {
   "cell_type": "markdown",
   "id": "a179d7ab",
   "metadata": {},
   "source": [
    "#### A 3 node experiment to demonstrate the network simulation and attack process in cyborg"
   ]
  },
  {
   "cell_type": "code",
   "execution_count": 36,
   "id": "6f3a9e3b",
   "metadata": {
    "scrolled": false
   },
   "outputs": [
    {
     "name": "stdout",
     "output_type": "stream",
     "text": [
      "Scenario file path is: C:/Users/HPP/Desktop/cyborg/vu_cyborg/CybORG/CybORG/Simulator/Scenarios/scenario_files/Scenario_rg1.yaml\n",
      "==> IP map of network is:\n",
      "{'Defender': IPv4Address('10.0.244.92'),\n",
      " 'User0': IPv4Address('10.0.244.87'),\n",
      " 'User_router': IPv4Address('10.0.244.94')}\n",
      "-> user ip to attack is: 10.0.244.87\n"
     ]
    }
   ],
   "source": [
    "import random\n",
    "from os.path import dirname\n",
    "from pprint import pprint\n",
    "import inspect\n",
    "from CybORG import CybORG\n",
    "from CybORG.Simulator.Scenarios import FileReaderScenarioGenerator\n",
    "from CybORG.Simulator.Actions import *\n",
    "from CybORG.Agents import RandomAgent\n",
    "import numpy as np\n",
    "import time\n",
    "\n",
    "path = str(inspect.getfile(CybORG))\n",
    "#path= dirname(path) + f'/Simulator/Scenarios/scenario_files/Scenario_3nodes.yaml'\n",
    "path = f'C:/Users/HPP/Desktop/cyborg/vu_cyborg/CybORG/CybORG/Simulator/Scenarios/scenario_files/Scenario_rg1.yaml'\n",
    "sg = FileReaderScenarioGenerator(path)\n",
    "print('Scenario file path is:',path)\n",
    "\n",
    "env = CybORG(scenario_generator=sg)\n",
    "#pprint(dir(env))\n",
    "\n",
    "#pprint('IP map of network is:',env.get_ip_map())\n",
    "#pprint('Red agent state is:',env.get_agent_state('Red'))\n",
    "#pprint('Red agent action space is:',env.get_action_space('Red'))\n",
    "print('==> IP map of network is:')\n",
    "pprint(env.get_ip_map())\n",
    "\n",
    "\n",
    "\n",
    "ips= env.get_ip_map()\n",
    "userip= ips['User0']\n",
    "print('-> user ip to attack is:',userip)\n",
    "\n",
    "\n",
    "\n",
    "\n",
    "\n",
    "results = env.reset(agent='Red')"
   ]
  },
  {
   "cell_type": "markdown",
   "id": "ed8a0b0f",
   "metadata": {},
   "source": [
    "##### Observed state from the perspective of red agent"
   ]
  },
  {
   "cell_type": "code",
   "execution_count": 12,
   "id": "15f5f43e",
   "metadata": {},
   "outputs": [
    {
     "name": "stdout",
     "output_type": "stream",
     "text": [
      "==> Red Agents observed state  is:\n",
      "{'User0': {'Interface': [{'IP Address': IPv4Address('10.0.0.41'),\n",
      "                          'Interface Name': 'eth0',\n",
      "                          'Subnet': IPv4Network('10.0.0.32/28')}],\n",
      "           'Processes': [{'PID': 3376, 'Username': 'SYSTEM'}],\n",
      "           'Sessions': [{'Agent': 'Red',\n",
      "                         'ID': 0,\n",
      "                         'PID': 3376,\n",
      "                         'Timeout': 0,\n",
      "                         'Type': <SessionType.RED_ABSTRACT_SESSION: 10>,\n",
      "                         'Username': 'SYSTEM'}],\n",
      "           'System info': {'Architecture': <Architecture.x64: 2>,\n",
      "                           'Hostname': 'User0',\n",
      "                           'OSDistribution': <OperatingSystemDistribution.WINDOWS_SVR_2008: 4>,\n",
      "                           'OSType': <OperatingSystemType.WINDOWS: 2>,\n",
      "                           'OSVersion': <OperatingSystemVersion.W6_1_7601: 13>,\n",
      "                           'position': array([0., 0.])}},\n",
      " 'success': <TrinaryEnum.UNKNOWN: 2>}\n"
     ]
    }
   ],
   "source": [
    "print('==> Red Agents observed state  is:')\n",
    "pprint(env.get_agent_state('Red'))"
   ]
  },
  {
   "cell_type": "code",
   "execution_count": 13,
   "id": "3a1fbe00",
   "metadata": {},
   "outputs": [
    {
     "name": "stdout",
     "output_type": "stream",
     "text": [
      "==> Blue Agents observed state  is:\n",
      "{'Defender': {'Interface': [{'IP Address': IPv4Address('10.0.0.46'),\n",
      "                             'Interface Name': 'eth0',\n",
      "                             'Subnet': IPv4Network('10.0.0.32/28')}],\n",
      "              'Processes': [{'PID': 2296, 'Username': 'ubuntu'},\n",
      "                            {'PID': 2298, 'Username': 'ubuntu'}],\n",
      "              'Sessions': [{'Agent': 'Blue',\n",
      "                            'ID': 0,\n",
      "                            'PID': 2296,\n",
      "                            'Timeout': 0,\n",
      "                            'Type': <SessionType.VELOCIRAPTOR_SERVER: 8>,\n",
      "                            'Username': 'ubuntu'},\n",
      "                           {'Agent': 'Blue',\n",
      "                            'ID': 2,\n",
      "                            'PID': 2298,\n",
      "                            'Timeout': 0,\n",
      "                            'Type': <SessionType.VELOCIRAPTOR_CLIENT: 7>,\n",
      "                            'Username': 'ubuntu'}],\n",
      "              'System info': {'Architecture': <Architecture.x64: 2>,\n",
      "                              'Hostname': 'Defender',\n",
      "                              'OSDistribution': <OperatingSystemDistribution.UBUNTU: 8>,\n",
      "                              'OSType': <OperatingSystemType.LINUX: 3>,\n",
      "                              'OSVersion': <OperatingSystemVersion.U18_04_3: 6>,\n",
      "                              'position': array([0., 0.])},\n",
      "              'User Info': [{'Groups': [{'GID': 0}], 'Username': 'root'},\n",
      "                            {'Groups': [{'GID': 1000}], 'Username': 'ubuntu'}]},\n",
      " 'User0': {'Interface': [{'IP Address': IPv4Address('10.0.0.41'),\n",
      "                          'Interface Name': 'eth0',\n",
      "                          'Subnet': IPv4Network('10.0.0.32/28')}],\n",
      "           'Processes': [{'PID': 3369, 'Username': 'ubuntu'}],\n",
      "           'Sessions': [{'Agent': 'Blue',\n",
      "                         'ID': 1,\n",
      "                         'PID': 3369,\n",
      "                         'Timeout': 0,\n",
      "                         'Type': <SessionType.VELOCIRAPTOR_CLIENT: 7>,\n",
      "                         'Username': 'ubuntu'}],\n",
      "           'System info': {'Architecture': <Architecture.x64: 2>,\n",
      "                           'Hostname': 'User0',\n",
      "                           'OSDistribution': <OperatingSystemDistribution.WINDOWS_SVR_2008: 4>,\n",
      "                           'OSType': <OperatingSystemType.WINDOWS: 2>,\n",
      "                           'OSVersion': <OperatingSystemVersion.W6_1_7601: 13>,\n",
      "                           'position': array([0., 0.])},\n",
      "           'User Info': [{'Groups': [{'GID': 0}], 'Username': 'Administrator'},\n",
      "                         {'Username': 'GreenAgent'},\n",
      "                         {'Groups': [{'GID': 0}],\n",
      "                          'Password': 'vagrant',\n",
      "                          'Username': 'vagrant'},\n",
      "                         {'Username': 'SYSTEM'}]},\n",
      " 'success': <TrinaryEnum.UNKNOWN: 2>}\n"
     ]
    }
   ],
   "source": [
    "print('==> Blue Agents observed state  is:')\n",
    "pprint(env.get_agent_state('Blue'))"
   ]
  },
  {
   "cell_type": "markdown",
   "id": "a6f34574",
   "metadata": {},
   "source": [
    "#### Action space to the red agent:"
   ]
  },
  {
   "cell_type": "code",
   "execution_count": 27,
   "id": "60169a6e",
   "metadata": {},
   "outputs": [
    {
     "name": "stdout",
     "output_type": "stream",
     "text": [
      "==> Red Agent action space is:\n",
      "{'action': {<class 'CybORG.Simulator.Actions.Action.Sleep'>: True,\n",
      "            <class 'CybORG.Simulator.Actions.AbstractActions.DiscoverNetworkServices.DiscoverNetworkServices'>: True,\n",
      "            <class 'CybORG.Simulator.Actions.AbstractActions.ExploitRemoteService.ExploitRemoteService'>: True},\n",
      " 'agent': {'Red': True},\n",
      " 'hostname': {'Defender': False, 'User0': True, 'User_router': False},\n",
      " 'ip_address': {IPv4Address('10.0.32.194'): True,\n",
      "                IPv4Address('10.0.32.203'): False,\n",
      "                IPv4Address('10.0.32.205'): False},\n",
      " 'password': {'vagrant': False},\n",
      " 'port': {21: False, 22: False, 53: False},\n",
      " 'process': {1: False,\n",
      "             389: False,\n",
      "             407: False,\n",
      "             409: False,\n",
      "             560: False,\n",
      "             656: False,\n",
      "             790: False,\n",
      "             802: False,\n",
      "             803: False,\n",
      "             807: False,\n",
      "             824: False,\n",
      "             825: False,\n",
      "             827: False,\n",
      "             832: False,\n",
      "             844: False,\n",
      "             847: False,\n",
      "             852: False,\n",
      "             853: False,\n",
      "             863: False,\n",
      "             867: False,\n",
      "             875: False,\n",
      "             879: False,\n",
      "             884: False,\n",
      "             1370: False,\n",
      "             1432: False,\n",
      "             2288: False,\n",
      "             2292: False,\n",
      "             2293: False,\n",
      "             3344: False,\n",
      "             3368: False,\n",
      "             3375: False,\n",
      "             3377: True},\n",
      " 'session': {0: True},\n",
      " 'subnet': {IPv4Network('10.0.32.192/28'): True},\n",
      " 'target_session': {0: True,\n",
      "                    1: False,\n",
      "                    2: False,\n",
      "                    3: False,\n",
      "                    4: False,\n",
      "                    5: False,\n",
      "                    6: False,\n",
      "                    7: False},\n",
      " 'username': {'Administrator': False,\n",
      "              'GreenAgent': False,\n",
      "              'SYSTEM': False,\n",
      "              'root': False,\n",
      "              'ubuntu': False,\n",
      "              'vagrant': False}}\n",
      "{<class 'CybORG.Simulator.Actions.Action.Sleep'>: True, <class 'CybORG.Simulator.Actions.AbstractActions.DiscoverNetworkServices.DiscoverNetworkServices'>: True, <class 'CybORG.Simulator.Actions.AbstractActions.ExploitRemoteService.ExploitRemoteService'>: True}\n"
     ]
    }
   ],
   "source": [
    "print('==> Red Agent action space is:')\n",
    "pprint(env.get_action_space('Red'))\n",
    "red_actions= env.get_action_space('Red')[\"action\"]\n",
    "print(red_actions)"
   ]
  },
  {
   "cell_type": "code",
   "execution_count": 17,
   "id": "36755727",
   "metadata": {},
   "outputs": [
    {
     "name": "stdout",
     "output_type": "stream",
     "text": [
      "==> Blue Agent action space is:\n",
      "{'action': {<class 'CybORG.Simulator.Actions.Action.Sleep'>: True,\n",
      "            <class 'CybORG.Simulator.Actions.AbstractActions.Remove.Remove'>: True,\n",
      "            <class 'CybORG.Simulator.Actions.AbstractActions.Analyse.Analyse'>: True},\n",
      " 'agent': {'Blue': True},\n",
      " 'hostname': {'Defender': True, 'User0': True, 'User_router': False},\n",
      " 'ip_address': {IPv4Address('10.0.0.35'): False,\n",
      "                IPv4Address('10.0.0.41'): True,\n",
      "                IPv4Address('10.0.0.46'): True},\n",
      " 'password': {'vagrant': True},\n",
      " 'port': {21: False, 22: False, 53: False},\n",
      " 'process': {1: False,\n",
      "             389: False,\n",
      "             407: False,\n",
      "             409: False,\n",
      "             560: False,\n",
      "             656: False,\n",
      "             790: False,\n",
      "             802: False,\n",
      "             803: False,\n",
      "             807: False,\n",
      "             824: False,\n",
      "             825: False,\n",
      "             827: False,\n",
      "             832: False,\n",
      "             844: False,\n",
      "             847: False,\n",
      "             852: False,\n",
      "             853: False,\n",
      "             863: False,\n",
      "             867: False,\n",
      "             875: False,\n",
      "             879: False,\n",
      "             884: False,\n",
      "             1370: False,\n",
      "             1432: False,\n",
      "             2288: False,\n",
      "             2296: True,\n",
      "             2298: True,\n",
      "             3344: False,\n",
      "             3368: False,\n",
      "             3369: True,\n",
      "             3376: False},\n",
      " 'session': {0: True},\n",
      " 'subnet': {IPv4Network('10.0.0.32/28'): True},\n",
      " 'target_session': {0: True,\n",
      "                    1: True,\n",
      "                    2: True,\n",
      "                    3: False,\n",
      "                    4: False,\n",
      "                    5: False,\n",
      "                    6: False,\n",
      "                    7: False},\n",
      " 'username': {'Administrator': True,\n",
      "              'GreenAgent': True,\n",
      "              'SYSTEM': True,\n",
      "              'root': True,\n",
      "              'ubuntu': True,\n",
      "              'vagrant': True}}\n"
     ]
    }
   ],
   "source": [
    "print('==> Blue Agent action space is:')\n",
    "pprint(env.get_action_space('Blue'))"
   ]
  },
  {
   "cell_type": "markdown",
   "id": "0289480d",
   "metadata": {},
   "source": [
    "#### Attack action : DiscoverNetworkServices\n",
    "It allow the red agent to identify services on a host as a prerequisite for running an exploit.\n",
    "It Calls the low level action 'PortScan' then modifies the observation. The outcome is all open ports running on the host.  It must be used on a host to successfully run the high level action ExploitRemoteServices. \n"
   ]
  },
  {
   "cell_type": "code",
   "execution_count": null,
   "id": "c047ef04",
   "metadata": {},
   "outputs": [],
   "source": []
  },
  {
   "cell_type": "code",
   "execution_count": 4,
   "id": "5d079ef3",
   "metadata": {},
   "outputs": [
    {
     "name": "stdout",
     "output_type": "stream",
     "text": [
      "==> Red agent state after discover network services attack:\n",
      "{'10.0.173.216': {'Interface': [{'IP Address': IPv4Address('10.0.173.216')}],\n",
      "                  'Processes': [{'Connections': [{'local_address': IPv4Address('10.0.173.216'),\n",
      "                                                  'local_port': 22}]},\n",
      "                                {'Connections': [{'local_address': IPv4Address('10.0.173.216'),\n",
      "                                                  'local_port': 21}]}]},\n",
      " 'success': <TrinaryEnum.TRUE: 1>}\n"
     ]
    }
   ],
   "source": [
    "#creating and executing port discovery attack on user network \n",
    "action = DiscoverNetworkServices(session=0,agent='Red',ip_address=userip)\n",
    "results = env.step(action=action,agent='Red')\n",
    "print('==> Red agent state after discover network services attack:')\n",
    "pprint(results.observation)\n",
    "\n"
   ]
  },
  {
   "cell_type": "code",
   "execution_count": 18,
   "id": "b0e54b8e",
   "metadata": {},
   "outputs": [
    {
     "name": "stdout",
     "output_type": "stream",
     "text": [
      "Subnet visible to red is: 10.0.173.208/28\n",
      "==> Red agent state after discover network services attack:\n",
      "{'10.0.173.216': {'Interface': [{'IP Address': IPv4Address('10.0.173.216'),\n",
      "                                 'Subnet': IPv4Network('10.0.173.208/28')}]},\n",
      " '10.0.173.222': {'Interface': [{'IP Address': IPv4Address('10.0.173.222'),\n",
      "                                 'Subnet': IPv4Network('10.0.173.208/28')}]},\n",
      " 'success': <TrinaryEnum.TRUE: 1>}\n"
     ]
    }
   ],
   "source": [
    "#creating and executing port discovery attack on user network \n",
    "action_space = env.get_action_space('Red')\n",
    "#pprint(action_space)\n",
    "subnets=action_space[\"subnet\"]\n",
    "known_subnets = [subnet for subnet in subnets if subnets[subnet]]\n",
    "subnet = known_subnets[0]\n",
    "\n",
    "print('Subnet visible to red is:',subnet)\n",
    "action = DiscoverRemoteSystems(subnet = subnet, session=0,agent='Red')\n",
    "results = env.step(action=action,agent='Red')\n",
    "print('==> Red agent state after discover network services attack:')\n",
    "pprint(results.observation)"
   ]
  },
  {
   "cell_type": "markdown",
   "id": "de5bd2b6",
   "metadata": {},
   "source": [
    "#### Attack action : ExploitRemoteServices\n",
    "It allow the red agent to examines the target host and returns a selected applicable escalate action if any, as well as processes that are required to be genuine."
   ]
  },
  {
   "cell_type": "code",
   "execution_count": 19,
   "id": "53855a13",
   "metadata": {},
   "outputs": [
    {
     "name": "stdout",
     "output_type": "stream",
     "text": [
      "==> Red agent state after exploit attack:\n",
      "{'10.0.173.216': {'Interface': [{'IP Address': IPv4Address('10.0.173.216')}],\n",
      "                  'Processes': [{'Connections': [{'Status': <ProcessState.OPEN: 2>,\n",
      "                                                  'local_address': IPv4Address('10.0.173.216'),\n",
      "                                                  'local_port': 22}],\n",
      "                                 'Process Type': <ProcessType.SSH: 2>},\n",
      "                                {'Connections': [{'local_address': IPv4Address('10.0.173.216'),\n",
      "                                                  'local_port': 51418,\n",
      "                                                  'remote_address': IPv4Address('10.0.173.216'),\n",
      "                                                  'remote_port': 22}]},\n",
      "                                {'Connections': [{'local_address': IPv4Address('10.0.173.216'),\n",
      "                                                  'local_port': 22,\n",
      "                                                  'remote_address': IPv4Address('10.0.173.216'),\n",
      "                                                  'remote_port': 51418}],\n",
      "                                 'Process Type': <ProcessType.SSH: 2>}],\n",
      "                  'Sessions': [{'Agent': 'Red',\n",
      "                                'ID': 1,\n",
      "                                'Type': <SessionType.SSH: 2>,\n",
      "                                'Username': 'vagrant'}],\n",
      "                  'System info': {'Hostname': 'User0',\n",
      "                                  'OSType': <OperatingSystemType.WINDOWS: 2>}},\n",
      " 'success': <TrinaryEnum.TRUE: 1>}\n"
     ]
    }
   ],
   "source": [
    "#creating and executing attack on user network (can we attack on router? -dont know)\n",
    "action = ExploitRemoteService(ip_address=userip,session=0,agent='Red')\n",
    "results = env.step(action=action,agent='Red')\n",
    "print('==> Red agent state after exploit attack:')\n",
    "pprint(results.observation)"
   ]
  },
  {
   "cell_type": "code",
   "execution_count": 62,
   "id": "bb524845",
   "metadata": {},
   "outputs": [],
   "source": [
    "red_actions=['Sleep','DiscoverNetworkServices','ExploitRemoteService']\n",
    "blue_actions=['Sleep','Analyse','Remove']\n",
    "states=['blue','green','orange','red']\n",
    "initial_state='blue'\n",
    "log=[] #log [init_state,red_Action,state,blue_action,state,....] \n",
    "log.append(initial_state)"
   ]
  },
  {
   "cell_type": "code",
   "execution_count": 63,
   "id": "f53c5312",
   "metadata": {},
   "outputs": [
    {
     "name": "stdout",
     "output_type": "stream",
     "text": [
      "Ranom actions are: [2 1 2 1 2 0 1 2 0 2 2 0 0 2 0 0 0 0 2 2]\n",
      "Red agent action is: ExploitRemoteService\n",
      "Blue agent action is: Analyse\n",
      "Red agent action is: ExploitRemoteService\n",
      "Blue agent action is: Analyse\n",
      "Red agent action is: ExploitRemoteService\n",
      "Blue agent action is: Sleep\n",
      "Red agent action is: DiscoverNetworkServices\n",
      "Blue agent action is: Remove\n",
      "Red agent action is: Sleep\n",
      "Blue agent action is: Remove\n",
      "Red agent action is: ExploitRemoteService\n",
      "Blue agent action is: Sleep\n",
      "Red agent action is: Sleep\n",
      "Blue agent action is: Remove\n",
      "Red agent action is: Sleep\n",
      "Blue agent action is: Sleep\n",
      "Red agent action is: Sleep\n",
      "Blue agent action is: Sleep\n",
      "Red agent action is: ExploitRemoteService\n",
      "Blue agent action is: Remove\n",
      "log is: ['blue', 'ExploitRemoteService', 'Analyse', 'ExploitRemoteService', 'Analyse', 'ExploitRemoteService', 'Sleep', 'DiscoverNetworkServices', 'Remove', 'Sleep', 'Remove', 'ExploitRemoteService', 'Sleep', 'Sleep', 'Remove', 'Sleep', 'Sleep', 'Sleep', 'Sleep', 'ExploitRemoteService', 'Remove']\n"
     ]
    }
   ],
   "source": [
    "steps=10\n",
    "random_actions=np.random.randint(3,size=steps*2)\n",
    "print('Ranom actions are:',random_actions)\n",
    "for i in range(0,len(random_actions),2):\n",
    "    #first red random action\n",
    "    red_action_id=random_actions[i]\n",
    "    red_action=red_actions[red_action_id]\n",
    "    print('Red agent action is:',red_action)\n",
    "    log.append(red_action)\n",
    "    #results = env.step(action=action, agent='Red')\n",
    "    \n",
    "    #todo: log state of node here\n",
    "    \n",
    "    \n",
    "    #second blue random action\n",
    "    blue_action_id=random_actions[i+1]\n",
    "    blue_action= blue_actions[blue_action_id]\n",
    "    print('Blue agent action is:',blue_action)\n",
    "    log.append(blue_action)  \n",
    "   \n",
    "    \n",
    "    #results = env.step(action=action, agent='Red')\n",
    "     #todo: log state of node here\n",
    "print('log is:',log)    "
   ]
  },
  {
   "cell_type": "code",
   "execution_count": null,
   "id": "394207f9",
   "metadata": {},
   "outputs": [],
   "source": []
  }
 ],
 "metadata": {
  "kernelspec": {
   "display_name": "Python 3 (ipykernel)",
   "language": "python",
   "name": "python3"
  },
  "language_info": {
   "codemirror_mode": {
    "name": "ipython",
    "version": 3
   },
   "file_extension": ".py",
   "mimetype": "text/x-python",
   "name": "python",
   "nbconvert_exporter": "python",
   "pygments_lexer": "ipython3",
   "version": "3.7.16"
  }
 },
 "nbformat": 4,
 "nbformat_minor": 5
}
