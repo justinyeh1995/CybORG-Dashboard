{
 "cells": [
  {
   "cell_type": "markdown",
   "id": "a179d7ab",
   "metadata": {},
   "source": [
    "#### A 2 node experiment to demonstrate the network simulation and attack process in cyborg\n",
    "\n",
    "Scenario: In this scenario, there are two nodes (1 router node ) and other host node (user0). There is only one agent (red agent). By rule of the simulation, red agent should start with some observed host and can only attack on host not on routers. Since we have only one host, the red agent can observe it at the starting of game. However,red agent only knows the ip of host, processid, session and system level information. It doesnot know about open ports and the vulnerabilities in the host. \n",
    "\n",
    "In this experiment, the red agent: \n",
    "1. Discover the open ports on the host \n",
    "2. Deploy the exploits to the host to find out applicable escalate action if any, as well as processes that are required to be genuine."
   ]
  },
  {
   "cell_type": "code",
   "execution_count": 1,
   "id": "6f3a9e3b",
   "metadata": {
    "scrolled": false
   },
   "outputs": [
    {
     "name": "stdout",
     "output_type": "stream",
     "text": [
      "Scenario file path is: c:\\users\\hpp\\desktop\\cyborg\\cyborg\\CybORG/Simulator/Scenarios/scenario_files/Scenario_2nodes.yaml\n",
      "==> IP map of network is:\n",
      "{'User0': IPv4Address('10.0.83.222'), 'User_router': IPv4Address('10.0.83.220')}\n",
      "-> user ip to attack is: 10.0.83.222\n"
     ]
    },
    {
     "name": "stderr",
     "output_type": "stream",
     "text": [
      "C:\\Users\\HPP\\miniconda3\\envs\\cyborg\\lib\\site-packages\\gym\\utils\\seeding.py:48: DeprecationWarning: \u001b[33mWARN: Function `rng.randint(low, [high, size, dtype])` is marked as deprecated and will be removed in the future. Please use `rng.integers(low, [high, size, dtype])` instead.\u001b[0m\n",
      "  \"Function `rng.randint(low, [high, size, dtype])` is marked as deprecated \"\n"
     ]
    }
   ],
   "source": [
    "import random\n",
    "from os.path import dirname\n",
    "from pprint import pprint\n",
    "import inspect\n",
    "from CybORG import CybORG\n",
    "from CybORG.Simulator.Scenarios import FileReaderScenarioGenerator\n",
    "from CybORG.Simulator.Actions import *\n",
    "\n",
    "\n",
    "path = str(inspect.getfile(CybORG))\n",
    "path= dirname(path) + f'/Simulator/Scenarios/scenario_files/Scenario_2nodes.yaml'\n",
    "\n",
    "sg = FileReaderScenarioGenerator(path)\n",
    "print('Scenario file path is:',path)\n",
    "\n",
    "env = CybORG(scenario_generator=sg)\n",
    "#pprint(dir(env))\n",
    "\n",
    "#pprint('IP map of network is:',env.get_ip_map())\n",
    "#pprint('Red agent state is:',env.get_agent_state('Red'))\n",
    "#pprint('Red agent action space is:',env.get_action_space('Red'))\n",
    "print('==> IP map of network is:')\n",
    "pprint(env.get_ip_map())\n",
    "\n",
    "\n",
    "\n",
    "ips= env.get_ip_map()\n",
    "userip= ips['User0']\n",
    "print('-> user ip to attack is:',userip)\n",
    "\n",
    "\n",
    "\n",
    "\n",
    "\n",
    "#results = env.reset(agent='Red')\n",
    "#agent = B_lineAgent()\n",
    "\n",
    "#for step in range(30):\n",
    "#    action = agent.get_action(results.observation,results.action_space)\n",
    "#    #print('Action is:',action)\n",
    "#    results = cyborg.step(action=action, agent='Red')\n",
    "#    #print(results.reward) "
   ]
  },
  {
   "cell_type": "markdown",
   "id": "ed8a0b0f",
   "metadata": {},
   "source": [
    "##### Observed state from the perspective of red agent"
   ]
  },
  {
   "cell_type": "code",
   "execution_count": 2,
   "id": "15f5f43e",
   "metadata": {},
   "outputs": [
    {
     "name": "stdout",
     "output_type": "stream",
     "text": [
      "==> Red Agents observed state  is:\n",
      "{'User0': {'Interface': [{'IP Address': IPv4Address('10.0.83.222'),\n",
      "                          'Interface Name': 'eth0',\n",
      "                          'Subnet': IPv4Network('10.0.83.208/28')}],\n",
      "           'Processes': [{'PID': 3375, 'Username': 'SYSTEM'}],\n",
      "           'Sessions': [{'Agent': 'Red',\n",
      "                         'ID': 0,\n",
      "                         'PID': 3375,\n",
      "                         'Timeout': 0,\n",
      "                         'Type': <SessionType.RED_ABSTRACT_SESSION: 10>,\n",
      "                         'Username': 'SYSTEM'}],\n",
      "           'System info': {'Architecture': <Architecture.x64: 2>,\n",
      "                           'Hostname': 'User0',\n",
      "                           'OSDistribution': <OperatingSystemDistribution.WINDOWS_SVR_2008: 4>,\n",
      "                           'OSType': <OperatingSystemType.WINDOWS: 2>,\n",
      "                           'OSVersion': <OperatingSystemVersion.W6_1_7601: 13>,\n",
      "                           'position': array([0., 0.])}},\n",
      " 'success': <TrinaryEnum.UNKNOWN: 2>}\n"
     ]
    }
   ],
   "source": [
    "print('==> Red Agents observed state  is:')\n",
    "pprint(env.get_agent_state('Red'))"
   ]
  },
  {
   "cell_type": "markdown",
   "id": "a6f34574",
   "metadata": {},
   "source": [
    "#### Action space to the red agent:"
   ]
  },
  {
   "cell_type": "code",
   "execution_count": 3,
   "id": "60169a6e",
   "metadata": {},
   "outputs": [
    {
     "name": "stdout",
     "output_type": "stream",
     "text": [
      "==> Red Agent action space is:\n",
      "{'action': {<class 'CybORG.Simulator.Actions.Action.Sleep'>: True,\n",
      "            <class 'CybORG.Simulator.Actions.AbstractActions.ExploitRemoteService.ExploitRemoteService'>: True,\n",
      "            <class 'CybORG.Simulator.Actions.AbstractActions.DiscoverRemoteSystems.DiscoverRemoteSystems'>: True,\n",
      "            <class 'CybORG.Simulator.Actions.AbstractActions.DiscoverNetworkServices.DiscoverNetworkServices'>: True},\n",
      " 'agent': {'Red': True},\n",
      " 'hostname': {'User0': True, 'User_router': False},\n",
      " 'ip_address': {IPv4Address('10.0.83.220'): False,\n",
      "                IPv4Address('10.0.83.222'): True},\n",
      " 'password': {'vagrant': False},\n",
      " 'port': {21: False, 22: False},\n",
      " 'process': {3344: False, 3368: False, 3375: True},\n",
      " 'session': {0: True},\n",
      " 'subnet': {IPv4Network('10.0.83.208/28'): True},\n",
      " 'target_session': {0: True,\n",
      "                    1: False,\n",
      "                    2: False,\n",
      "                    3: False,\n",
      "                    4: False,\n",
      "                    5: False,\n",
      "                    6: False,\n",
      "                    7: False},\n",
      " 'username': {'Administrator': False,\n",
      "              'GreenAgent': False,\n",
      "              'SYSTEM': False,\n",
      "              'vagrant': False}}\n"
     ]
    }
   ],
   "source": [
    "print('==> Red Agent action space is:')\n",
    "pprint(env.get_action_space('Red'))\n"
   ]
  },
  {
   "cell_type": "markdown",
   "id": "0289480d",
   "metadata": {},
   "source": [
    "#### Attack action : DiscoverRemoteServices\n",
    "It allow the red agent to identify services on a host as a prerequisite for running an exploit.\n",
    "It Calls the low level action 'PortScan' then modifies the observation. The outcome is all open ports running on the host.  It must be used on a host to successfully run the high level action ExploitRemoteServices. \n"
   ]
  },
  {
   "cell_type": "code",
   "execution_count": 4,
   "id": "5d079ef3",
   "metadata": {},
   "outputs": [
    {
     "name": "stdout",
     "output_type": "stream",
     "text": [
      "==> Red agent state after discover network services attack:\n",
      "{'10.0.83.222': {'Interface': [{'IP Address': IPv4Address('10.0.83.222')}],\n",
      "                 'Processes': [{'Connections': [{'local_address': IPv4Address('10.0.83.222'),\n",
      "                                                 'local_port': 22}]},\n",
      "                               {'Connections': [{'local_address': IPv4Address('10.0.83.222'),\n",
      "                                                 'local_port': 21}]}]},\n",
      " 'success': <TrinaryEnum.TRUE: 1>}\n"
     ]
    }
   ],
   "source": [
    "#creating and executing port discovery attack on user network \n",
    "action = DiscoverNetworkServices(session=0,agent='Red',ip_address=userip)\n",
    "results = env.step(action=action,agent='Red')\n",
    "print('==> Red agent state after discover network services attack:')\n",
    "pprint(results.observation)"
   ]
  },
  {
   "cell_type": "markdown",
   "id": "de5bd2b6",
   "metadata": {},
   "source": [
    "#### Attack action : ExploitRemoteServices\n",
    "It allow the red agent to examines the target host and returns a selected applicable escalate action if any, as well as processes that are required to be genuine."
   ]
  },
  {
   "cell_type": "code",
   "execution_count": 18,
   "id": "53855a13",
   "metadata": {},
   "outputs": [
    {
     "name": "stdout",
     "output_type": "stream",
     "text": [
      "==> Red agent state after exploit attack:\n",
      "{'10.0.8.233': {'Interface': [{'IP Address': IPv4Address('10.0.8.233')}],\n",
      "                'Processes': [{'Connections': [{'Status': <ProcessState.OPEN: 2>,\n",
      "                                                'local_address': IPv4Address('10.0.8.233'),\n",
      "                                                'local_port': 22}],\n",
      "                               'Process Type': <ProcessType.SSH: 2>},\n",
      "                              {'Connections': [{'local_address': IPv4Address('10.0.8.233'),\n",
      "                                                'local_port': 50495,\n",
      "                                                'remote_address': IPv4Address('10.0.8.233'),\n",
      "                                                'remote_port': 22}]},\n",
      "                              {'Connections': [{'local_address': IPv4Address('10.0.8.233'),\n",
      "                                                'local_port': 22,\n",
      "                                                'remote_address': IPv4Address('10.0.8.233'),\n",
      "                                                'remote_port': 50495}],\n",
      "                               'Process Type': <ProcessType.SSH: 2>}],\n",
      "                'Sessions': [{'Agent': 'Red',\n",
      "                              'ID': 1,\n",
      "                              'Type': <SessionType.SSH: 2>,\n",
      "                              'Username': 'vagrant'}],\n",
      "                'System info': {'Hostname': 'User0',\n",
      "                                'OSType': <OperatingSystemType.WINDOWS: 2>}},\n",
      " 'success': <TrinaryEnum.TRUE: 1>}\n"
     ]
    }
   ],
   "source": [
    "#creating and executing attack on user network (can we attack on router? -No)\n",
    "action = ExploitRemoteService(ip_address=userip,session=0,agent='Red')\n",
    "results = env.step(action=action,agent='Red')\n",
    "print('==> Red agent state after exploit attack:')\n",
    "pprint(results.observation)"
   ]
  },
  {
   "cell_type": "code",
   "execution_count": 19,
   "id": "bb524845",
   "metadata": {},
   "outputs": [],
   "source": [
    "## to do : Imapct and many things etc... "
   ]
  },
  {
   "cell_type": "code",
   "execution_count": null,
   "id": "f53c5312",
   "metadata": {},
   "outputs": [],
   "source": []
  }
 ],
 "metadata": {
  "kernelspec": {
   "display_name": "Python 3 (ipykernel)",
   "language": "python",
   "name": "python3"
  },
  "language_info": {
   "codemirror_mode": {
    "name": "ipython",
    "version": 3
   },
   "file_extension": ".py",
   "mimetype": "text/x-python",
   "name": "python",
   "nbconvert_exporter": "python",
   "pygments_lexer": "ipython3",
   "version": "3.7.16"
  }
 },
 "nbformat": 4,
 "nbformat_minor": 5
}
