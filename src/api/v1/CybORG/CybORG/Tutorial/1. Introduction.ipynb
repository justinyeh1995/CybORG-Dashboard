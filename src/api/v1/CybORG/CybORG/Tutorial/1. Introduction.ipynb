{
 "cells": [
  {
   "cell_type": "markdown",
   "metadata": {},
   "source": [
    "### Importing CybORG"
   ]
  },
  {
   "cell_type": "markdown",
   "metadata": {},
   "source": [
    "To use the CybORG environment, it is necessary to import the CybORG class. CybORG stands for **Cyb**er **O**perations **R**esearch **G**ym, so remember to capitalise correctly when importing. "
   ]
  },
  {
   "cell_type": "code",
   "execution_count": 1,
   "metadata": {},
   "outputs": [
    {
     "name": "stdout",
     "output_type": "stream",
     "text": [
      "path is: /home/ninehs/CybORG/Git/CybORG/CybORG/env.py\n"
     ]
    }
   ],
   "source": [
    "from CybORG import CybORG"
   ]
  },
  {
   "cell_type": "markdown",
   "metadata": {},
   "source": [
    "### Instantiating CybORG"
   ]
  },
  {
   "cell_type": "markdown",
   "metadata": {},
   "source": [
    "CybORG has to be manually instantiated by calling the class constructor. This must be passed a ScenarioGenerator class, which contains the details of the scenario.\n",
    "For Challenge 3 we will be using the DroneSwarmScenarioGenerator which creates the correct scenario."
   ]
  },
  {
   "cell_type": "code",
   "execution_count": 2,
   "metadata": {},
   "outputs": [
    {
     "name": "stdout",
     "output_type": "stream",
     "text": [
      "env is: sim\n"
     ]
    },
    {
     "name": "stderr",
     "output_type": "stream",
     "text": [
      "/home/ninehs/micromamba/envs/cyborg/lib/python3.8/site-packages/gym/utils/seeding.py:47: DeprecationWarning: \u001b[33mWARN: Function `rng.randint(low, [high, size, dtype])` is marked as deprecated and will be removed in the future. Please use `rng.integers(low, [high, size, dtype])` instead.\u001b[0m\n",
      "  deprecation(\n"
     ]
    }
   ],
   "source": [
    "from CybORG.Simulator.Scenarios import DroneSwarmScenarioGenerator\n",
    "\n",
    "sg = DroneSwarmScenarioGenerator()\n",
    "cyborg = CybORG(scenario_generator=sg)"
   ]
  },
  {
   "cell_type": "markdown",
   "metadata": {},
   "source": [
    "### The PettingZoo Interface"
   ]
  },
  {
   "cell_type": "markdown",
   "metadata": {},
   "source": [
    "Challenge 3 is a multi-agent scenario consisting of several teams of agents. Red team will be attacking the network, Blue team will be defending the network, while Green team represents the network users who will be passing messages to each other via the drone network. For this challenge, the roles of Red and Green will be handled by internal rules-based agents, while your task is to use the external API to train Blue Team.\n",
    "\n",
    "CybORG supports single and multi-agent reinforcement learning. The single agent API is based on OpenAI gym, while the multi-agent API is based on PettingZoo. Since Challenge 3 is a multi-agent scenario, we will thus use the PettingZooParallelWrapper. We do this by instantiating the wrapper and pass in CybORG as the env parameter."
   ]
  },
  {
   "cell_type": "code",
   "execution_count": 3,
   "metadata": {},
   "outputs": [
    {
     "name": "stdout",
     "output_type": "stream",
     "text": [
      "Agent Interfaces are: {'red_agent_0': <CybORG.Shared.AgentInterface.AgentInterface object at 0x7fb968c8a940>, 'blue_agent_0': <CybORG.Shared.AgentInterface.AgentInterface object at 0x7fb968bcf460>, 'green_agent_0': <CybORG.Shared.AgentInterface.AgentInterface object at 0x7fb968bcf2b0>, 'red_agent_1': <CybORG.Shared.AgentInterface.AgentInterface object at 0x7fb968bcf520>, 'blue_agent_1': <CybORG.Shared.AgentInterface.AgentInterface object at 0x7fb968bcf100>, 'green_agent_1': <CybORG.Shared.AgentInterface.AgentInterface object at 0x7fb968bcff40>, 'red_agent_2': <CybORG.Shared.AgentInterface.AgentInterface object at 0x7fb968bcf1c0>, 'blue_agent_2': <CybORG.Shared.AgentInterface.AgentInterface object at 0x7fb968974430>, 'green_agent_2': <CybORG.Shared.AgentInterface.AgentInterface object at 0x7fb968974580>, 'red_agent_3': <CybORG.Shared.AgentInterface.AgentInterface object at 0x7fb968c8a760>, 'blue_agent_3': <CybORG.Shared.AgentInterface.AgentInterface object at 0x7fb9689747c0>, 'green_agent_3': <CybORG.Shared.AgentInterface.AgentInterface object at 0x7fb9689748e0>, 'red_agent_4': <CybORG.Shared.AgentInterface.AgentInterface object at 0x7fb9689747f0>, 'blue_agent_4': <CybORG.Shared.AgentInterface.AgentInterface object at 0x7fb968974af0>, 'green_agent_4': <CybORG.Shared.AgentInterface.AgentInterface object at 0x7fb968974c70>, 'red_agent_5': <CybORG.Shared.AgentInterface.AgentInterface object at 0x7fb968974b50>, 'blue_agent_5': <CybORG.Shared.AgentInterface.AgentInterface object at 0x7fb968974e50>, 'green_agent_5': <CybORG.Shared.AgentInterface.AgentInterface object at 0x7fb968974fa0>, 'red_agent_6': <CybORG.Shared.AgentInterface.AgentInterface object at 0x7fb968974eb0>, 'blue_agent_6': <CybORG.Shared.AgentInterface.AgentInterface object at 0x7fb96899c220>, 'green_agent_6': <CybORG.Shared.AgentInterface.AgentInterface object at 0x7fb968974ee0>, 'red_agent_7': <CybORG.Shared.AgentInterface.AgentInterface object at 0x7fb96899c160>, 'blue_agent_7': <CybORG.Shared.AgentInterface.AgentInterface object at 0x7fb96899c580>, 'green_agent_7': <CybORG.Shared.AgentInterface.AgentInterface object at 0x7fb968c681c0>, 'red_agent_8': <CybORG.Shared.AgentInterface.AgentInterface object at 0x7fb96899c4c0>, 'blue_agent_8': <CybORG.Shared.AgentInterface.AgentInterface object at 0x7fb96899c8e0>, 'green_agent_8': <CybORG.Shared.AgentInterface.AgentInterface object at 0x7fb96899ca30>, 'red_agent_9': <CybORG.Shared.AgentInterface.AgentInterface object at 0x7fb96899c820>, 'blue_agent_9': <CybORG.Shared.AgentInterface.AgentInterface object at 0x7fb96899cc40>, 'green_agent_9': <CybORG.Shared.AgentInterface.AgentInterface object at 0x7fb96899cd90>, 'red_agent_10': <CybORG.Shared.AgentInterface.AgentInterface object at 0x7fb96899cb80>, 'blue_agent_10': <CybORG.Shared.AgentInterface.AgentInterface object at 0x7fb968c2fd60>, 'green_agent_10': <CybORG.Shared.AgentInterface.AgentInterface object at 0x7fb968c2fd00>, 'red_agent_11': <CybORG.Shared.AgentInterface.AgentInterface object at 0x7fb968c2fc70>, 'blue_agent_11': <CybORG.Shared.AgentInterface.AgentInterface object at 0x7fb968c2fa00>, 'green_agent_11': <CybORG.Shared.AgentInterface.AgentInterface object at 0x7fb96899cf70>, 'red_agent_12': <CybORG.Shared.AgentInterface.AgentInterface object at 0x7fb968c2fac0>, 'blue_agent_12': <CybORG.Shared.AgentInterface.AgentInterface object at 0x7fb968c2f6a0>, 'green_agent_12': <CybORG.Shared.AgentInterface.AgentInterface object at 0x7fb968d1b220>, 'red_agent_13': <CybORG.Shared.AgentInterface.AgentInterface object at 0x7fb968c2f9a0>, 'blue_agent_13': <CybORG.Shared.AgentInterface.AgentInterface object at 0x7fb968975130>, 'green_agent_13': <CybORG.Shared.AgentInterface.AgentInterface object at 0x7fb968c2f640>, 'red_agent_14': <CybORG.Shared.AgentInterface.AgentInterface object at 0x7fb9689751c0>, 'blue_agent_14': <CybORG.Shared.AgentInterface.AgentInterface object at 0x7fb968975490>, 'green_agent_14': <CybORG.Shared.AgentInterface.AgentInterface object at 0x7fb968975580>, 'red_agent_15': <CybORG.Shared.AgentInterface.AgentInterface object at 0x7fb968975430>, 'blue_agent_15': <CybORG.Shared.AgentInterface.AgentInterface object at 0x7fb9689757f0>, 'green_agent_15': <CybORG.Shared.AgentInterface.AgentInterface object at 0x7fb9689758e0>, 'red_agent_16': <CybORG.Shared.AgentInterface.AgentInterface object at 0x7fb968975790>, 'blue_agent_16': <CybORG.Shared.AgentInterface.AgentInterface object at 0x7fb968975b50>, 'green_agent_16': <CybORG.Shared.AgentInterface.AgentInterface object at 0x7fb968975c10>, 'red_agent_17': <CybORG.Shared.AgentInterface.AgentInterface object at 0x7fb968975af0>, 'blue_agent_17': <CybORG.Shared.AgentInterface.AgentInterface object at 0x7fb968975eb0>, 'green_agent_17': <CybORG.Shared.AgentInterface.AgentInterface object at 0x7fb968975fa0>, 'Red_Trojan': <CybORG.Shared.AgentInterface.AgentInterface object at 0x7fb9689850a0>}\n",
      "dict_keys(['blue_agent_0', 'blue_agent_1', 'blue_agent_2', 'blue_agent_3', 'blue_agent_4', 'blue_agent_5', 'blue_agent_6', 'blue_agent_7', 'blue_agent_8', 'blue_agent_9', 'blue_agent_10', 'blue_agent_11', 'blue_agent_12', 'blue_agent_13', 'blue_agent_14', 'blue_agent_15', 'blue_agent_16', 'blue_agent_17'])\n"
     ]
    },
    {
     "name": "stderr",
     "output_type": "stream",
     "text": [
      "/home/ninehs/CybORG/Git/CybORG/CybORG/Agents/Wrappers/PettingZooParallelWrapper.py:242: DeprecationWarning: `np.int` is a deprecated alias for the builtin `int`. To silence this warning, use `int` by itself. Doing this will not modify any behavior and is safe. When replacing `np.int`, you may wish to use e.g. `np.int64` or `np.int32` to specify the precision. If you wish to review your current use, check the release note link for additional information.\n",
      "Deprecated in NumPy 1.20; for more details and guidance: https://numpy.org/devdocs/release/1.20.0-notes.html#deprecations\n",
      "  new_obs = np.zeros(obs_length, dtype=np.int)\n"
     ]
    }
   ],
   "source": [
    "from CybORG.Agents.Wrappers import PettingZooParallelWrapper\n",
    "\n",
    "env = PettingZooParallelWrapper(env=cyborg)\n",
    "obs = env.reset()\n",
    "\n",
    "print(obs.keys())"
   ]
  },
  {
   "cell_type": "markdown",
   "metadata": {},
   "source": [
    "We obtain the initial observation by resetting the environment. This ouputs a dictionary whose keys are the names of the various blue agents and whose values are the corresponding agent's observation. We can see below the observation of 'blue_agent_0'. This is in vector form designed for input into a neural network. See the README page for an explanation of what the values in this vector mean."
   ]
  },
  {
   "cell_type": "code",
   "execution_count": 4,
   "metadata": {},
   "outputs": [
    {
     "name": "stdout",
     "output_type": "stream",
     "text": [
      "[ 1  0  0  0  0  0  0  0  0  0  0  0  0  0  0  0  0  0  0  1  0  0  0  0\n",
      "  0  0  0  0  0  0  0  0  0  0  0  0  0  0 59 82  1 26 56  0  2 48 77  0\n",
      "  3 96 66  0  4 42 26  0  5 27 70  0  6  2 79  0  7 22 39  0  8  1 14  0\n",
      "  9 67 19  0 10 77 54  0 11 61 45  0 12 70  7  0 13 33 36  0 14 47 94  0\n",
      " 15 81 94  0 16 84 15  0 17  4 89  0]\n"
     ]
    }
   ],
   "source": [
    "print(obs['blue_agent_0'])"
   ]
  },
  {
   "cell_type": "markdown",
   "metadata": {},
   "source": [
    "To see the action space for a specific agent, the action_space method is called, passing in the agent name as a string. This returns a Discrete object from OpenAI gym."
   ]
  },
  {
   "cell_type": "code",
   "execution_count": 5,
   "metadata": {},
   "outputs": [
    {
     "name": "stdout",
     "output_type": "stream",
     "text": [
      "Discrete(56)\n"
     ]
    }
   ],
   "source": [
    "action_space = env.action_space('blue_agent_0')\n",
    "print(action_space)"
   ]
  },
  {
   "cell_type": "markdown",
   "metadata": {},
   "source": [
    "Actions are given to CybORG via the step method. Just like PettingZoo, this is given a dictionary whose keys are the agent names and whose values are the corresponding actions. This function returns the next observation, rewards for the agents, the done signal for each agent and the info dictionary, which is usually empty."
   ]
  },
  {
   "cell_type": "code",
   "execution_count": 6,
   "metadata": {},
   "outputs": [
    {
     "name": "stdout",
     "output_type": "stream",
     "text": [
      "0.0\n"
     ]
    }
   ],
   "source": [
    "actions = {k:action_space.sample() for k in obs}\n",
    "obs, reward, done, info = env.step(actions)\n",
    "\n",
    "print(reward['blue_agent_0'])"
   ]
  },
  {
   "cell_type": "markdown",
   "metadata": {},
   "source": [
    "This should be enough to get you started training agents."
   ]
  },
  {
   "cell_type": "code",
   "execution_count": null,
   "metadata": {},
   "outputs": [],
   "source": []
  }
 ],
 "metadata": {
  "kernelspec": {
   "display_name": "Python 3 (ipykernel)",
   "language": "python",
   "name": "python3"
  },
  "language_info": {
   "codemirror_mode": {
    "name": "ipython",
    "version": 3
   },
   "file_extension": ".py",
   "mimetype": "text/x-python",
   "name": "python",
   "nbconvert_exporter": "python",
   "pygments_lexer": "ipython3",
   "version": "3.8.12"
  }
 },
 "nbformat": 4,
 "nbformat_minor": 4
}
